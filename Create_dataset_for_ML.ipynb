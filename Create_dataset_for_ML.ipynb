{
 "cells": [
  {
   "cell_type": "code",
   "execution_count": 1,
   "id": "b7ea0bde",
   "metadata": {},
   "outputs": [],
   "source": [
    "import pandas as pd\n",
    "import numpy as np\n",
    "from glob import glob\n",
    "import csv"
   ]
  },
  {
   "cell_type": "code",
   "execution_count": 5,
   "id": "bbc3d781",
   "metadata": {},
   "outputs": [],
   "source": [
    "def total_featutes(file_path):\n",
    "    all_file_path = glob(file_path+'*.csv')\n",
    "#     all_file_path = all_file_path\n",
    "    print(len(all_file_path))\n",
    "    final_data = pd.read_csv(all_file_path[0])\n",
    "    for i in range(1,len(all_file_path)):\n",
    "        data_1 = pd.read_csv(all_file_path[i])\n",
    "        data_1 = np.array(data_1)\n",
    "        final_data = np.vstack((final_data,data_1))\n",
    "    return final_data"
   ]
  },
  {
   "cell_type": "code",
   "execution_count": 6,
   "id": "3a5fd5da",
   "metadata": {},
   "outputs": [],
   "source": [
    "def write_csv(R_final_data,FR_final_data):\n",
    "    file = open('Jan/Concated_data/total_R_features_full.csv', 'w+', newline ='')\n",
    "    with file:   \n",
    "        write = csv.writer(file)\n",
    "        write.writerows(R_final_data)\n",
    "    file = open('Jan/Concated_data/total_FR_features_full.csv', 'w+', newline ='')\n",
    "    with file:   \n",
    "        write = csv.writer(file)\n",
    "        write.writerows(FR_final_data)"
   ]
  },
  {
   "cell_type": "code",
   "execution_count": 9,
   "id": "6b83cb92",
   "metadata": {},
   "outputs": [
    {
     "name": "stdout",
     "output_type": "stream",
     "text": [
      "25\n"
     ]
    }
   ],
   "source": [
    "total_R_features = total_featutes(r'E:\\HFO_rate_study\\Aswin_Nidhin_Feature_extraction\\Jan\\Row_data\\R_features\\\\')"
   ]
  },
  {
   "cell_type": "code",
   "execution_count": 10,
   "id": "70b74836",
   "metadata": {},
   "outputs": [
    {
     "name": "stdout",
     "output_type": "stream",
     "text": [
      "25\n"
     ]
    }
   ],
   "source": [
    "total_FR_features = total_featutes(r'E:\\HFO_rate_study\\Aswin_Nidhin_Feature_extraction\\Jan\\Row_data\\FR_features\\\\')"
   ]
  },
  {
   "cell_type": "code",
   "execution_count": 11,
   "id": "560a495a",
   "metadata": {},
   "outputs": [],
   "source": [
    "write_csv(total_R_features,total_FR_features)"
   ]
  },
  {
   "cell_type": "code",
   "execution_count": 12,
   "id": "c54ffb46",
   "metadata": {},
   "outputs": [],
   "source": [
    "fina_data = np.vstack((total_R_features,total_FR_features))"
   ]
  },
  {
   "cell_type": "code",
   "execution_count": 13,
   "id": "3711bf0d",
   "metadata": {},
   "outputs": [],
   "source": [
    "file = open('total_features/Final_data.csv', 'w+', newline ='')\n",
    "with file:   \n",
    "    write = csv.writer(file)\n",
    "    write.writerows(fina_data)"
   ]
  },
  {
   "cell_type": "code",
   "execution_count": null,
   "id": "3625ed9c",
   "metadata": {},
   "outputs": [],
   "source": []
  },
  {
   "cell_type": "code",
   "execution_count": null,
   "id": "2f12d94b",
   "metadata": {},
   "outputs": [],
   "source": []
  }
 ],
 "metadata": {
  "kernelspec": {
   "display_name": "Python 3 (ipykernel)",
   "language": "python",
   "name": "python3"
  },
  "language_info": {
   "codemirror_mode": {
    "name": "ipython",
    "version": 3
   },
   "file_extension": ".py",
   "mimetype": "text/x-python",
   "name": "python",
   "nbconvert_exporter": "python",
   "pygments_lexer": "ipython3",
   "version": "3.9.5"
  }
 },
 "nbformat": 4,
 "nbformat_minor": 5
}
