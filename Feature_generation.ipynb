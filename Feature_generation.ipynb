{
 "cells": [
  {
   "cell_type": "code",
   "execution_count": 42,
   "id": "4922d6c2",
   "metadata": {
    "id": "4922d6c2"
   },
   "outputs": [],
   "source": [
    "%%capture\n",
    "import numpy as np\n",
    "from scipy.io import loadmat\n",
    "import matplotlib.pyplot as plt\n",
    "from scipy.signal import butter, lfilter\n",
    "from glob import glob\n",
    "import csv\n",
    "import mat73\n",
    "import pandas as pd\n",
    "import warnings\n",
    "warnings.filterwarnings(\"ignore\")"
   ]
  },
  {
   "cell_type": "code",
   "execution_count": 43,
   "id": "199e553f",
   "metadata": {
    "id": "199e553f"
   },
   "outputs": [],
   "source": [
    "from scipy import stats\n",
    "import entropy as ent\n",
    "import statsmodels.api as sm\n",
    "import scipy.io\n",
    "import numpy as np\n",
    "import librosa\n",
    "from scipy.signal import find_peaks\n",
    "from scipy.stats import differential_entropy\n",
    "\n",
    "def mean(x):\n",
    "    return np.mean(x)\n",
    "\n",
    "def std(x):\n",
    "    return np.std(x)\n",
    "\n",
    "def mad(x):\n",
    "    return stats.median_abs_deviation(x)\n",
    "\n",
    "def mixim(x):\n",
    "    return np.max(x)\n",
    "\n",
    "def minim(x):\n",
    "    return np.min(x)\n",
    "\n",
    "def SMA(x):\n",
    "    return sum(np.sqrt(x**2+x**2))/len(x)\n",
    "\n",
    "def energy(x):\n",
    "    return np.sum(np.square(x))/len(x)\n",
    "\n",
    "def iqr(x):\n",
    "    return np.subtract(*np.percentile(x, [75, 25]))\n",
    "\n",
    "def spectral_entropy(x,fs=1000):\n",
    "    return ent.spectral_entropy(x, sf=fs, method='welch', normalize=True)\n",
    "\n",
    "def arCoeff(x):\n",
    "    rho, sigma2 = sm.regression.linear_model.burg(x, order=1)\n",
    "    return rho[0]\n",
    "\n",
    "def argmaxim(x):\n",
    "    return np.argmax(x)\n",
    "\n",
    "def skewness(x):\n",
    "    return stats.skew(x)\n",
    "\n",
    "def kurtosis(x):\n",
    "    return stats.kurtosis(x)\n",
    "\n",
    "def bandenergy(x,Fs=1000):\n",
    "    (fq, Se) = scipy.signal.periodogram(x, Fs, scaling='density')\n",
    "    return sum(Se)\n",
    "\n",
    "def ptp(x):\n",
    "    return np.ptp(x)\n",
    "\n",
    "def var(x):\n",
    "    return np.var(x)\n",
    "\n",
    "def argminim(x):\n",
    "    return np.argmin(x)\n",
    "\n",
    "def rms(x):\n",
    "    return np.sqrt(np.mean(x**2))\n",
    "\n",
    "def abs_diff_signal(x):\n",
    "    return np.sum(np.abs(np.diff(x)))\n",
    "\n",
    "def zcrs(x):\n",
    "    return librosa.feature.zero_crossing_rate(x)[0][0]\n",
    "\n",
    "def diff_entropy(x):\n",
    "    return differential_entropy(x)\n",
    "\n",
    "def mobility(x):\n",
    "    return ent.hjorth_params(x)[0]\n",
    "\n",
    "def complexity(x):\n",
    "    return ent.hjorth_params(x)[1]\n",
    "\n",
    "def peak_ampl(x):\n",
    "    peaks, _ = find_peaks(x, height=0)\n",
    "    return (max(peaks))\n",
    "\n",
    "def sample_entropy(x):\n",
    "    return ent.sample_entropy(x)\n",
    "\n",
    "def approx_entropy(x):\n",
    "    return ent.app_entropy(x)\n",
    "\n",
    "def sing_value_decomp_entropy(x):\n",
    "    return ent.svd_entropy(x, normalize=True)\n",
    "\n",
    "def permuation_entropy(x):\n",
    "    return ent.perm_entropy(x, normalize=True)\n",
    "\n",
    "def all_features(x,fs=1000):\n",
    "    k = [mean(x),std(x),mad(x),mixim(x),minim(x),SMA(x),energy(x),iqr(x),spectral_entropy(x,fs),arCoeff(x),skewness(x),kurtosis(x),bandenergy(x,fs),ptp(x),var(x),rms(x),\n",
    "         abs_diff_signal(x),zcrs(x),diff_entropy(x),mobility(x),complexity(x),peak_ampl(x),sample_entropy(x),approx_entropy(x),sing_value_decomp_entropy(x),permuation_entropy(x)]\n",
    "    return k"
   ]
  },
  {
   "cell_type": "code",
   "execution_count": 44,
   "id": "2e2b9fe9",
   "metadata": {
    "id": "2e2b9fe9"
   },
   "outputs": [],
   "source": [
    "def butter_bandpass(lowcut, highcut, fs, order=5):\n",
    "    return butter(order, [lowcut, highcut], fs=fs, btype='band')\n",
    "\n",
    "def butter_bandpass_filter(data, lowcut, highcut, fs, order=5):\n",
    "    b, a = butter_bandpass(lowcut, highcut, fs, order=order)\n",
    "    y = lfilter(b, a, data)\n",
    "    return y\n",
    "def filter_(xx,fs):\n",
    "    xx_fastripples = butter_bandpass_filter(xx,250,499,fs,order=6)\n",
    "    xx_ripples = butter_bandpass_filter(xx,80,250,fs,order=6)\n",
    "    return xx_fastripples,xx_ripples"
   ]
  },
  {
   "cell_type": "code",
   "execution_count": 45,
   "id": "0a7f6994",
   "metadata": {
    "id": "0a7f6994"
   },
   "outputs": [],
   "source": [
    "def dictionary(file_name):\n",
    "    with open('Patients/mat/'+file_name+'.txt', 'r') as f:\n",
    "        txt_file = f.read()\n",
    "    txt_file = txt_file.split('\\n')\n",
    "    index_array = np.arange(1,len(txt_file))\n",
    "    dictionary = dict(zip(index_array,txt_file))\n",
    "    return dictionary"
   ]
  },
  {
   "cell_type": "code",
   "execution_count": 46,
   "id": "0f27f963",
   "metadata": {
    "id": "0f27f963"
   },
   "outputs": [],
   "source": [
    "def R_FR_features(mat,xx_fastripples,xx_ripples,t_hold,fs,patient_id,k):\n",
    "    R_features=[]\n",
    "    FR_features=[]\n",
    "    xx = mat['xx']\n",
    "    #len(mat['Ripples'])\n",
    "#     for i in range(4,5):\n",
    "    for i in range(len(mat['Ripples'])):\n",
    "#         print(mat['Ripples'][i][4])\n",
    "        if mat['Ripples'][i][4] >= t_hold:\n",
    "            channel_no = mat['Ripples'][i][0]\n",
    "            index_xx = int(channel_no - 1)\n",
    "            if mat['Ripples'][i][2] > 1100 and mat['Ripples'][i][2]<(int(xx.shape[1])-1100):\n",
    "                start = int(mat['Ripples'][i][2]-1000)\n",
    "                stop = int(mat['Ripples'][i][2]+1000)\n",
    "            else:\n",
    "                continue\n",
    "            R_seg = xx_ripples[index_xx][start:stop]\n",
    "#             print(len(R_seg))\n",
    "#             time = np.linspace(0,10,len(R_seg))\n",
    "#             plt.plot(time,R_seg)\n",
    "#             plt.show()\n",
    "#             print('done')\n",
    "            features = all_features(R_seg,fs)\n",
    "            features = np.hstack((patient_id[k],mat['Ripples'][i][0],features,mat['Ripples'][i][1]))\n",
    "            R_features.append(features)\n",
    "    \n",
    "    for i in range(3,len(mat['FastRipples'])):\n",
    "        if mat['FastRipples'][i][4] >= t_hold:\n",
    "            channel_no = mat['FastRipples'][i][0]\n",
    "            index_xx = int(channel_no - 1)\n",
    "            if mat['FastRipples'][i][2] > 1100 and mat['FastRipples'][i][2]<(int(xx.shape[1])-1100):\n",
    "                start = int(mat['FastRipples'][i][2]-1000)\n",
    "                stop = int(mat['FastRipples'][i][2]+1000)\n",
    "            else:\n",
    "                continue\n",
    "            FR_seg = xx_fastripples[index_xx][start:stop]\n",
    "            features = all_features(FR_seg,fs)\n",
    "            features = list(np.hstack((patient_id[k],mat['FastRipples'][i][0],features,mat['FastRipples'][i][1])))\n",
    "            FR_features.append(features)\n",
    "    R_features = np.array(R_features) \n",
    "    FR_features = np.array(FR_features)\n",
    "    return R_features,FR_features"
   ]
  },
  {
   "cell_type": "code",
   "execution_count": 47,
   "id": "06c1b9e7",
   "metadata": {
    "id": "06c1b9e7"
   },
   "outputs": [],
   "source": [
    "def write_csv(file_names,i,R_features,FR_features):\n",
    "    file = open(file_names[i]+'2000_R_features.csv', 'w+', newline ='')\n",
    "    with file:   \n",
    "        write = csv.writer(file)\n",
    "        write.writerows(R_features)\n",
    "    file = open(file_names[i]+'2000_FR_features.csv', 'w+', newline ='')\n",
    "    with file:   \n",
    "        write = csv.writer(file)\n",
    "        write.writerows(FR_features)\n",
    "    "
   ]
  },
  {
   "cell_type": "code",
   "execution_count": 48,
   "id": "6dc7c430",
   "metadata": {
    "id": "6dc7c430"
   },
   "outputs": [],
   "source": [
    "def label(R_features,index_no,k):\n",
    "    types = index_no[k].split(',')\n",
    "    if len(types)>1:\n",
    "        set_array = np.array([])\n",
    "        for i in range(len(types)):\n",
    "            types_2 = types[i]\n",
    "            values = types[i].split('-')\n",
    "            set_values = np.arange(int(values[0]),int(values[1])+1)\n",
    "            set_array= np.hstack((set_array,set_values))\n",
    "    else:\n",
    "        values = index_no[k].split('-')\n",
    "        set_array = np.arange(int(values[0]),int(values[1])+1)\n",
    "\n",
    "\n",
    "    ch = R_features[:,1]\n",
    "\n",
    "\n",
    "    label =[]\n",
    "    for i in range(len(ch)):\n",
    "        if int(float(ch[i])) in set_array:\n",
    "            label.append(1)\n",
    "        else:\n",
    "            label.append(0)\n",
    "    return np.array(label)\n"
   ]
  },
  {
   "cell_type": "code",
   "execution_count": 49,
   "id": "1d2f7de1",
   "metadata": {
    "id": "1d2f7de1"
   },
   "outputs": [],
   "source": [
    "def feature_extraction(file_name,threshold):\n",
    "    \n",
    "    data_names = pd.read_csv(file_name)\n",
    "    file_names = data_names['Names']\n",
    "    patient_id = data_names['MRD']\n",
    "    mat_flie_path ='Patients/mat/'\n",
    "    index_no = data_names['Channle no']\n",
    "    patient_names = data_names['Names']\n",
    "    #len(file_names)\n",
    "    for i in range(len(file_names)):\n",
    "        \n",
    "        print(file_names[i]+'---->loading...')\n",
    "        \n",
    "        mat = mat73.loadmat(mat_flie_path+file_names[i])           \n",
    "#         dict_y = dictionary(file_names[i])\n",
    "        xx = mat['xx']\n",
    "        try:\n",
    "            fs = mat['fs'][0][0]\n",
    "        except Exception:\n",
    "            fs = mat['fs']\n",
    "        t_hold = threshold\n",
    "        #filtering\n",
    "        xx_fastripples,xx_ripples = filter_(xx,fs)\n",
    "        #features\n",
    "        R_features,FR_features = R_FR_features(mat,xx_fastripples,xx_ripples,t_hold,fs,patient_id,i)\n",
    "        #label\n",
    "        \n",
    "        R_label = label(R_features,index_no,i)\n",
    "        FR_label = label(FR_features,index_no,i)\n",
    "        R_features= np.hstack((R_features,R_label.reshape(len(R_label),1)))\n",
    "        FR_features=np.hstack((FR_features,FR_label.reshape(len(FR_label),1)))\n",
    "#         csv\n",
    "        write_csv(file_names,i,R_features,FR_features)\n",
    "        print(file_names[i]+'---->completed...')\n",
    "    print('all---->completed')"
   ]
  },
  {
   "cell_type": "code",
   "execution_count": 50,
   "id": "16e7ca86",
   "metadata": {
    "id": "16e7ca86",
    "outputId": "1ae96e78-fa30-4864-8404-56796e6d7026"
   },
   "outputs": [
    {
     "name": "stderr",
     "output_type": "stream",
     "text": [
      "ERROR:root:ERROR: MATLAB type not supported: string, (uint32)\n"
     ]
    },
    {
     "name": "stdout",
     "output_type": "stream",
     "text": [
      "Ezra.edf.mat---->loading...\n",
      "Ezra.edf.mat---->completed...\n",
      "all---->completed\n"
     ]
    }
   ],
   "source": [
    "feature_extraction('Patient list - Copy.csv',8)"
   ]
  },
  {
   "cell_type": "code",
   "execution_count": 33,
   "id": "2ce3bb74",
   "metadata": {
    "id": "2ce3bb74"
   },
   "outputs": [
    {
     "name": "stdout",
     "output_type": "stream",
     "text": [
      "1.348466206885108\n"
     ]
    }
   ],
   "source": [
    "def mobility(x):\n",
    "    print(x)\n",
    "    a,b = ent.hjorth_params \n",
    "    print(a)\n",
    "\n",
    "x = [2,5,4,6,5,8,4,2,3,6,5]\n",
    "print(ent.hjorth_params(x)[0])"
   ]
  },
  {
   "cell_type": "code",
   "execution_count": null,
   "id": "a75996a4",
   "metadata": {
    "id": "a75996a4"
   },
   "outputs": [],
   "source": []
  }
 ],
 "metadata": {
  "colab": {
   "collapsed_sections": [],
   "provenance": []
  },
  "kernelspec": {
   "display_name": "Python 3 (ipykernel)",
   "language": "python",
   "name": "python3"
  },
  "language_info": {
   "codemirror_mode": {
    "name": "ipython",
    "version": 3
   },
   "file_extension": ".py",
   "mimetype": "text/x-python",
   "name": "python",
   "nbconvert_exporter": "python",
   "pygments_lexer": "ipython3",
   "version": "3.9.5"
  }
 },
 "nbformat": 4,
 "nbformat_minor": 5
}
